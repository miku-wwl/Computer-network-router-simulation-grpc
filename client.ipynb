{
 "cells": [
  {
   "cell_type": "code",
   "execution_count": 1,
   "metadata": {},
   "outputs": [
    {
     "name": "stdout",
     "output_type": "stream",
     "text": [
      "准备使用服务\n",
      "Server get message from  127.0.0.13\n",
      "Server get message from  127.0.0.218\n",
      "Server get message from  127.0.0.89\n",
      "Server get message from  127.0.0.65\n"
     ]
    }
   ],
   "source": [
    "import threading\n",
    "from tkinter import *\n",
    "import time\n",
    "import random\n",
    "\n",
    "import grpc\n",
    "import router_pb2 as pb2\n",
    "import router_pb2_grpc as pb2_grpc\n",
    "\n",
    "\n",
    "\n",
    "class GUI:\n",
    "    def __init__(self, root):\n",
    "        self.root = root\n",
    "        Label(self.root, text='主机信息').grid(row=0, column=0)\n",
    "      ###  self.listBox = Listbox(self.root)\n",
    "      ###  self.listBox.pack()\n",
    "        self.listBox = Listbox(self.root, width=70, height=20)\n",
    "        self.listBox.grid(row=1, column=0)\n",
    "def createGUI():\n",
    "    global gui\n",
    "    root = Tk()\n",
    "    gui = GUI(root)\n",
    "    root.title('模拟路由器原理-客户端')\n",
    "    root.mainloop()\n",
    "    \n",
    "def grpcflow():\n",
    "# 定义一个频道, 连接至服务端监听的端口\n",
    "    channel = grpc.insecure_channel(\"127.0.0.1:22533\")\n",
    "    # 生成客户端\n",
    "    client = pb2_grpc.RouterStub(channel=channel)\n",
    "\n",
    "    \n",
    "    \n",
    "    from_ip='127.0.0.'+str(random.randint(2,255))\n",
    "    for i in range(10):\n",
    "        time.sleep(1.5)\n",
    "        x1=random.randint(0,255)\n",
    "        x2=random.randint(0,255)\n",
    "        x3=random.randint(0,255)\n",
    "        x4=random.randint(0,255)\n",
    "        to_ip=str(x1)+'.'+str(x2)+'.'+str(x3)+'.'+str(x4)\n",
    "        response = client.hello_router(\n",
    "            pb2.request(from_ip=from_ip, to_ip=to_ip)\n",
    "        )\n",
    "        gui.listBox.insert(END,'主机'+'('+from_ip+')'+'向路由器发送待转发分组,目的地址: '+to_ip)      \n",
    "        # result位于返回值response中, 直接通过属性访问的形式获取\n",
    "    print(response.result)\n",
    "    \n",
    "if __name__ == '__main__':\n",
    "    t0 = threading.Thread(target=createGUI, args=(), name='gui')\n",
    "    t1 = threading.Thread(target=grpcflow, args=(), name='recv')\n",
    "    t2 = threading.Thread(target=grpcflow, args=(), name='recv')\n",
    "    t3 = threading.Thread(target=grpcflow, args=(), name='recv')\n",
    "    t4 = threading.Thread(target=grpcflow, args=(), name='recv')\n",
    "    print(\"准备使用服务\")\n",
    "    t0.start()\n",
    "    time.sleep(0.5)\n",
    "    t1.start()\n",
    "    time.sleep(0.5)\n",
    "    t2.start()\n",
    "    time.sleep(0.5)\n",
    "    t3.start()\n",
    "    time.sleep(0.5)\n",
    "    t4.start()\n",
    "    "
   ]
  },
  {
   "cell_type": "code",
   "execution_count": null,
   "metadata": {},
   "outputs": [],
   "source": []
  },
  {
   "cell_type": "code",
   "execution_count": null,
   "metadata": {},
   "outputs": [],
   "source": []
  },
  {
   "cell_type": "code",
   "execution_count": null,
   "metadata": {},
   "outputs": [],
   "source": []
  }
 ],
 "metadata": {
  "kernelspec": {
   "display_name": "Python 3",
   "language": "python",
   "name": "python3"
  },
  "language_info": {
   "codemirror_mode": {
    "name": "ipython",
    "version": 3
   },
   "file_extension": ".py",
   "mimetype": "text/x-python",
   "name": "python",
   "nbconvert_exporter": "python",
   "pygments_lexer": "ipython3",
   "version": "3.8.5"
  }
 },
 "nbformat": 4,
 "nbformat_minor": 2
}
